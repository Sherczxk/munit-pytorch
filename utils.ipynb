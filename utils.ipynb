{
 "cells": [
  {
   "cell_type": "code",
   "execution_count": 6,
   "metadata": {},
   "outputs": [],
   "source": [
    "import torch\n",
    "import torch.nn as nn\n",
    "import torch.nn.functional as F\n",
    "import torch.nn.init as init\n",
    "\n",
    "################################# Loss ###########################\n",
    "\n",
    "def recon_loss(x_a,x_b):\n",
    "    loss = nn.L1Loss(reduce=True, size_average=True)\n",
    "    return loss(x_a,x_b)\n",
    "    \n",
    "def dis_loss(x_real,x_fake,gan_type='lsgan'):\n",
    "    if gan_type == 'lsgan':\n",
    "        loss = nn.MSELoss(reduce=True, size_average=True)\n",
    "        dis_loss = loss(x_real,torch.ones(x_real.size()).cuda())+\\\n",
    "                    loss(x_fake,torch.zeros(x_fake.size()).cuda())\n",
    "    elif gan_type == 'nsgan':\n",
    "        loss = nn.BCELoss(reduce=True, size_average=True)\n",
    "        dis_loss = loss(F.sigmoid(x_real),torch.ones(x_real.size()).cuda())+\\\n",
    "                    loss(F.sigmoid(x_fake),torch.zeros(x_fake.size()).cuda())\n",
    "    else:\n",
    "        raise NotImplementedError('GAN type [%s] is not Unsupported' % gan_type)\n",
    "    return dis_loss\n",
    "    \n",
    "def gen_loss(x_fake,gan_type='lsgan'):\n",
    "    if gan_type == 'lsgan':\n",
    "        loss = nn.MSELoss(reduce=True, size_average=True)\n",
    "        gen_loss = loss(x_fake,torch.ones(x_fake.size()).cuda())\n",
    "    elif gan_type == 'nsgan':\n",
    "        loss = nn.BCELoss(reduce=True, size_average=True)\n",
    "        gen_loss = loss(F.sigmoid(x_fake),torch.ones(x_fake.size()).cuda())\n",
    "    else:\n",
    "        raise NotImplementedError('GAN type [%s] is not Unsupported' % gan_type)\n",
    "    return gen_loss\n",
    "    \n",
    "#################################### utils #######################\n",
    "\n",
    "def weights_init(init_type='gaussian'):\n",
    "    def init_fun(model):\n",
    "        classname = model.__class__.__name__\n",
    "        if hasattr(m, 'weight') and (classname.find('Conv') != -1 or classname.find('Linear') != -1):\n",
    "            if init_type == 'normal':\n",
    "                init.normal_(m.weight.data, 0.0, init_gain)\n",
    "            elif init_type == 'xavier':\n",
    "                init.xavier_normal_(m.weight.data, gain=init_gain)\n",
    "            elif init_type == 'kaiming':\n",
    "                init.kaiming_normal_(m.weight.data, a=0, mode='fan_in')\n",
    "            elif init_type == 'orthogonal':\n",
    "                init.orthogonal_(m.weight.data, gain=init_gain)\n",
    "            else:\n",
    "                raise NotImplementedError('initialization method [%s] is not implemented' % init_type)\n",
    "            if hasattr(m, 'bias') and m.bias is not None:\n",
    "                init.constant_(m.bias.data, 0.0)\n",
    "        elif classname.find('BatchNorm2d') != -1:  \n",
    "        # BatchNorm Layer's weight is not a matrix; only normal distribution applies.\n",
    "            init.normal_(m.weight.data, 1.0, init_gain)\n",
    "            init.constant_(m.bias.data, 0.0)\n",
    "            \n",
    "    return init_fun"
   ]
  },
  {
   "cell_type": "code",
   "execution_count": null,
   "metadata": {},
   "outputs": [],
   "source": []
  }
 ],
 "metadata": {
  "kernelspec": {
   "display_name": "Python 3",
   "language": "python",
   "name": "python3"
  },
  "language_info": {
   "codemirror_mode": {
    "name": "ipython",
    "version": 3
   },
   "file_extension": ".py",
   "mimetype": "text/x-python",
   "name": "python",
   "nbconvert_exporter": "python",
   "pygments_lexer": "ipython3",
   "version": "3.6.7"
  }
 },
 "nbformat": 4,
 "nbformat_minor": 2
}
