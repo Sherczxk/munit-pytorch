{
 "cells": [
  {
   "cell_type": "code",
   "execution_count": 5,
   "metadata": {},
   "outputs": [
    {
     "ename": "AttributeError",
     "evalue": "'TestOptions' object has no attribute 'parse'",
     "output_type": "error",
     "traceback": [
      "\u001b[1;31m---------------------------------------------------------------------------\u001b[0m",
      "\u001b[1;31mAttributeError\u001b[0m                            Traceback (most recent call last)",
      "\u001b[1;32m<ipython-input-5-957e348496ab>\u001b[0m in \u001b[0;36m<module>\u001b[1;34m\u001b[0m\n\u001b[0;32m      5\u001b[0m \u001b[1;32mimport\u001b[0m \u001b[0mos\u001b[0m\u001b[1;33m\u001b[0m\u001b[1;33m\u001b[0m\u001b[0m\n\u001b[0;32m      6\u001b[0m \u001b[1;33m\u001b[0m\u001b[0m\n\u001b[1;32m----> 7\u001b[1;33m \u001b[0mopt\u001b[0m \u001b[1;33m=\u001b[0m \u001b[0mTestOptions\u001b[0m\u001b[1;33m(\u001b[0m\u001b[1;33m)\u001b[0m\u001b[1;33m.\u001b[0m\u001b[0mparse\u001b[0m\u001b[1;33m(\u001b[0m\u001b[1;33m)\u001b[0m\u001b[1;33m\u001b[0m\u001b[1;33m\u001b[0m\u001b[0m\n\u001b[0m\u001b[0;32m      8\u001b[0m \u001b[0mtrainer\u001b[0m \u001b[1;33m=\u001b[0m \u001b[0mmunit_trainer\u001b[0m\u001b[1;33m(\u001b[0m\u001b[0mopt\u001b[0m\u001b[1;33m)\u001b[0m\u001b[1;33m\u001b[0m\u001b[1;33m\u001b[0m\u001b[0m\n\u001b[0;32m      9\u001b[0m \u001b[1;33m\u001b[0m\u001b[0m\n",
      "\u001b[1;31mAttributeError\u001b[0m: 'TestOptions' object has no attribute 'parse'"
     ]
    }
   ],
   "source": [
    "import time\n",
    "from option import TestOptions\n",
    "from data import get_train_data,get_test_data,save_image\n",
    "import munit_trainer\n",
    "import os\n",
    "\n",
    "opt = TestOptions().parse()\n",
    "trainer = munit_trainer(opt)\n",
    "\n",
    "torch.manual_seed(opt.seed)\n",
    "torch.cuda.manual_seed(opt.seed)\n",
    "test_result_path = os.path.join(opt.output_dir,opt.exp_name,opt.direction,opt.style_tyle)\n",
    "if not os.path.exists(test_result_path):\n",
    "    os.makedirs(test_result_path)\n",
    "\n",
    "state_dict = torch.load(opt.checkpoint)\n",
    "trainer.gen_a.load_state_dict(state_dict['a'])\n",
    "trainer.gen_b.load_state_dict(state_dict['b'])\n",
    "trainer.cuda()\n",
    "trainer.eval()\n",
    "\n",
    "testA, testB = get_test_data(opt.datadir,opt.batch_size,\\\n",
    "               opt.num_workers,opt.new_size,opt.crop_size)\n",
    "\n",
    "if opt.direction == 'a2b':\n",
    "    content_encode = self.gen_a.encode\n",
    "    style_encode = self.gen_b.encode\n",
    "    decode = self.gen_b.decode\n",
    "    test_data_size = testA.size(0)\n",
    "    test_data = testA\n",
    "    style_sample_size = testB.size(0)\n",
    "    style_sample = testB\n",
    "else:\n",
    "    content_encode = self.gen_a.encode\n",
    "    style_encode = self.gen_b.encode\n",
    "    decode = self.gen_b.decode\n",
    "    test_data_size = testB.size(0)\n",
    "    test_data = testB\n",
    "    style_sample_size = testA.size(0)\n",
    "    style_sample = testA\n",
    "    \n",
    "with torch.no_grad():\n",
    "    for i in range(test_data_size):\n",
    "        image = test_data.dataset[i]\n",
    "        if opt.style_tyle == 'random':\n",
    "            styles = torch.randn(opt.num_style, opt.style_dim, 1, 1).cuda()\n",
    "        else:\n",
    "            sample_numbers = [random.randint(i,style_sample_size) for i in range(opt.num_style)]\n",
    "            style_image = torch.cat([style_sample.dataset[i].unsqueeze(0) for i in sample_numbers],dim=0)\n",
    "            _, styles = style_encode(style_image)\n",
    "        results = []\n",
    "        for i in range(opt.num_style):\n",
    "            style = styles[i]\n",
    "            result = test(image,opt.direction,style)\n",
    "            results.append(result)\n",
    "        results = torch.cat(results,dim=0)\n",
    "        display_result = torch.cat(tuple([input.unsqueeze(0),results]),dim=0)\n",
    "        save_image(display_result,opt.nrow,test_result_path+'/   {:04d}.jpg'.format(i))\n",
    "\n"
   ]
  },
  {
   "cell_type": "code",
   "execution_count": null,
   "metadata": {},
   "outputs": [],
   "source": []
  }
 ],
 "metadata": {
  "kernelspec": {
   "display_name": "Python 3",
   "language": "python",
   "name": "python3"
  },
  "language_info": {
   "codemirror_mode": {
    "name": "ipython",
    "version": 3
   },
   "file_extension": ".py",
   "mimetype": "text/x-python",
   "name": "python",
   "nbconvert_exporter": "python",
   "pygments_lexer": "ipython3",
   "version": "3.6.7"
  }
 },
 "nbformat": 4,
 "nbformat_minor": 2
}
